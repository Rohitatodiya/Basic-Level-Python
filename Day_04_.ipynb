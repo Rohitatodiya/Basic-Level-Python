{
  "nbformat": 4,
  "nbformat_minor": 0,
  "metadata": {
    "colab": {
      "provenance": [],
      "authorship_tag": "ABX9TyPINBmlSuYkf4uztovDajIV",
      "include_colab_link": true
    },
    "kernelspec": {
      "name": "python3",
      "display_name": "Python 3"
    },
    "language_info": {
      "name": "python"
    }
  },
  "cells": [
    {
      "cell_type": "markdown",
      "metadata": {
        "id": "view-in-github",
        "colab_type": "text"
      },
      "source": [
        "<a href=\"https://colab.research.google.com/github/Rohitatodiya/Rohit/blob/main/Day_04_.ipynb\" target=\"_parent\"><img src=\"https://colab.research.google.com/assets/colab-badge.svg\" alt=\"Open In Colab\"/></a>"
      ]
    },
    {
      "cell_type": "markdown",
      "source": [
        "# Control Flow Statements in Python\n",
        "\n",
        "# If Condition"
      ],
      "metadata": {
        "id": "wwutD282YW_o"
      }
    },
    {
      "cell_type": "markdown",
      "source": [
        "\"\"\" Write a program to calculate the percentage of the student in the subjects, Mathematics,Physics, Chemistry , English, and Hindi. Ask the user to give the input\"\"\""
      ],
      "metadata": {
        "id": "ljdTK6kxYj5J"
      }
    },
    {
      "cell_type": "code",
      "source": [
        "x = input(' Enter The Name of the Student')\n",
        "a = input('Enter the marks scored in English -')\n",
        "b = input('Enter the marks scored in Hindi -')\n",
        "c = input('Enter the marks scored in Mathematics -')\n",
        "d = input('Enter the marks scored in Physics -')\n",
        "e = input('Enter the marks scored in Chemistry -')\n",
        "p = int(a)+int(b)+int(c)+int(d)+int(e)\n",
        "n = (p/500)*100\n",
        "print('Percent Scored by The Student', x , 'is', n,'%')"
      ],
      "metadata": {
        "colab": {
          "base_uri": "https://localhost:8080/"
        },
        "id": "s7ehAZitYiS1",
        "outputId": "f05b5137-7772-46a6-df20-f17099debd97"
      },
      "execution_count": null,
      "outputs": [
        {
          "output_type": "stream",
          "name": "stdout",
          "text": [
            " Enter The Name of the StudentRohit Atodiya\n",
            "Enter the marks scored in English -77\n",
            "Enter the marks scored in Hindi -88\n",
            "Enter the marks scored in Mathematics -89\n",
            "Enter the marks scored in Physics -67\n",
            "Enter the marks scored in Chemistry -57\n",
            "Percent Scored by The Student Rohit Atodiya is 75.6 %\n"
          ]
        }
      ]
    },
    {
      "cell_type": "code",
      "source": [
        "i = 10\n",
        "\n",
        "if (i > 15):\n",
        "   print('10 is less than 15')\n",
        "print('I am outside the if condition')"
      ],
      "metadata": {
        "colab": {
          "base_uri": "https://localhost:8080/"
        },
        "id": "JzQ_npAjZNP6",
        "outputId": "54664549-870c-4c3f-d67c-79f11f33b13b"
      },
      "execution_count": null,
      "outputs": [
        {
          "output_type": "stream",
          "name": "stdout",
          "text": [
            "I am outside the if condition\n"
          ]
        }
      ]
    },
    {
      "cell_type": "markdown",
      "source": [
        "For example, assigning grades(A,B,C) based on marks obtained  by a student\n",
        "if the percentage is above 90, assign grade A\n",
        "if the percentage is above 75, assign grade B\n",
        "if the percentage is above 65, assign grade C\n",
        "\n"
      ],
      "metadata": {
        "id": "FTBuHFGHaoSy"
      }
    },
    {
      "cell_type": "code",
      "source": [
        "a = int(input('Enter The Marks Scored by a Student  '))\n",
        "\n",
        "if a>=90:\n",
        "  print('Student has obtained A grade')\n",
        "if a>=75 and a<90:\n",
        "  print('Student has obtained B grade')\n",
        "if a>=65 and a<75:\n",
        "  print('Student has obtained C grade')\n"
      ],
      "metadata": {
        "colab": {
          "base_uri": "https://localhost:8080/"
        },
        "id": "bftNSYmVaT2f",
        "outputId": "5815fa95-a585-49d6-cb2c-03b24764e89f"
      },
      "execution_count": null,
      "outputs": [
        {
          "output_type": "stream",
          "name": "stdout",
          "text": [
            "Enter The Marks Scored by a Student  93\n",
            "Student has obtained A grade\n"
          ]
        }
      ]
    },
    {
      "cell_type": "markdown",
      "source": [
        "# If-Else Statement\n",
        "\n",
        "Write a program to display \"Hello\" if the number entered by a user is a multiple of 5 other wise print \"bye\""
      ],
      "metadata": {
        "id": "q5yMIPHVca8v"
      }
    },
    {
      "cell_type": "code",
      "source": [
        "a = int(input(\" Enter the number\"))\n",
        "if a%5==0:\n",
        "  print('Hello')\n",
        "else:\n",
        "  print('Bye')"
      ],
      "metadata": {
        "colab": {
          "base_uri": "https://localhost:8080/"
        },
        "id": "jBhD-KrVdT1M",
        "outputId": "a3841793-0dbf-41b2-9093-6d206043bb6e"
      },
      "execution_count": null,
      "outputs": [
        {
          "output_type": "stream",
          "name": "stdout",
          "text": [
            " Enter the number10\n",
            "Hello\n"
          ]
        }
      ]
    },
    {
      "cell_type": "markdown",
      "source": [
        "Write a program ot check whether a person is eligible for voting or not"
      ],
      "metadata": {
        "id": "AAG6PfSSdVBY"
      }
    },
    {
      "cell_type": "code",
      "source": [
        "age = int(input(\"Enter the Age of the Citizen\"))\n",
        "if age>=18:\n",
        "  print(\"You are eligible for voting\")\n",
        "else:\n",
        "  print(\"You are not eligible for voting\")"
      ],
      "metadata": {
        "colab": {
          "base_uri": "https://localhost:8080/"
        },
        "id": "40YYf17ObtxH",
        "outputId": "e1b9ee26-5e0d-4e7e-ae4a-3620055718f0"
      },
      "execution_count": null,
      "outputs": [
        {
          "output_type": "stream",
          "name": "stdout",
          "text": [
            "Enter the Age of the Citizen16\n",
            "You are not eligible for voting\n"
          ]
        }
      ]
    },
    {
      "cell_type": "markdown",
      "source": [
        "Write a program to check wherther the number entered by a user is positive or negative"
      ],
      "metadata": {
        "id": "MhktQ23he5CH"
      }
    },
    {
      "cell_type": "code",
      "source": [
        "a = int(input('Enter the number'))\n",
        "if a > 0:\n",
        "  print('The number you have entered is a positive number ')\n",
        "else:\n",
        "  print('The number you have entered is a negative number')"
      ],
      "metadata": {
        "colab": {
          "base_uri": "https://localhost:8080/"
        },
        "id": "vc_NEZIsdPRa",
        "outputId": "7bcd7352-97e7-4232-e6b0-474d9711611a"
      },
      "execution_count": null,
      "outputs": [
        {
          "output_type": "stream",
          "name": "stdout",
          "text": [
            "Enter the number10\n",
            "The number you have entered is a positive number \n"
          ]
        }
      ]
    },
    {
      "cell_type": "markdown",
      "source": [
        "# If-Elif-Else Statement"
      ],
      "metadata": {
        "id": "9sIk_ILDmop5"
      }
    },
    {
      "cell_type": "markdown",
      "source": [
        "Accept any city from the user and display the monument of the city\n",
        "Delhi - Red Fort\n",
        "Agra - Taj Mahal\n",
        "Jaipir - Jalmal\n",
        "Orissa - Konark Temple\n",
        "Hyderabad - Charminar"
      ],
      "metadata": {
        "id": "qTljySGimwui"
      }
    },
    {
      "cell_type": "code",
      "source": [
        "a = input('Enter The City ')\n",
        "if a == 'Delhi':\n",
        "    print('The Monument of Delhi is Red Fort')\n",
        "elif a == 'Agra':\n",
        "    print('The Monument of Agra is Tajmahal')\n",
        "elif a == 'Jaipur':\n",
        "    print('The Monument of Jaipur is Jalmahal')\n",
        "elif a == 'Orissa':\n",
        "    print('The Monument of Orissa is Konark Temple')\n",
        "elif a == 'Hydrabad':\n",
        "    print('The Monument of Hydrabad is Charminar')\n",
        "else:\n",
        "    print(\"No Record Found\")"
      ],
      "metadata": {
        "id": "cZl7_srNfd0-",
        "colab": {
          "base_uri": "https://localhost:8080/"
        },
        "outputId": "b729165e-b058-4cd6-cef3-57bce82ac243"
      },
      "execution_count": 34,
      "outputs": [
        {
          "output_type": "stream",
          "name": "stdout",
          "text": [
            "Enter The City Mumbai\n",
            "No Record Found\n"
          ]
        }
      ]
    },
    {
      "cell_type": "markdown",
      "source": [
        "Accept the number of days from the user and calculate the charge of a library the following\n",
        "\n",
        "\n",
        "  till 5 days - 2Rs per day\n",
        "  \n",
        "  Six to ten days - 3Rs per day\n",
        "\n",
        "  11 to 15 days - 4Rs per day\n",
        "\n",
        "  after 15 days - 5Rs pwe day"
      ],
      "metadata": {
        "id": "1g6qeV8gr7Gu"
      }
    },
    {
      "cell_type": "code",
      "source": [
        "m = int(input('Enter the number of days you want to keep the book'))\n",
        "if m<=5:\n",
        "  print('you need to pay',m*2,\"Rs\")\n",
        "elif m>=6 and m<=10:\n",
        "  print('you need to pay', m*3, \"Rs\")\n",
        "elif m>=11 and m<=15:\n",
        "  print('you need to pay',m*4,\"Rs\")\n",
        "elif m>15:\n",
        "  print('you need to pay', m*5,\"Rs\")"
      ],
      "metadata": {
        "colab": {
          "base_uri": "https://localhost:8080/"
        },
        "id": "21at-J7pnUzb",
        "outputId": "2f396358-fa15-4aa0-82fb-9bc198aa134d"
      },
      "execution_count": 36,
      "outputs": [
        {
          "output_type": "stream",
          "name": "stdout",
          "text": [
            "Enter the number of days you want to keep the book18\n",
            "you need to pay 90 Rs\n"
          ]
        }
      ]
    },
    {
      "cell_type": "code",
      "source": [],
      "metadata": {
        "id": "Ny0tRfa2tqxE"
      },
      "execution_count": null,
      "outputs": []
    }
  ]
}