{
  "nbformat": 4,
  "nbformat_minor": 0,
  "metadata": {
    "colab": {
      "provenance": [],
      "authorship_tag": "ABX9TyMeA6yEywaiiYu/hCifSjnq",
      "include_colab_link": true
    },
    "kernelspec": {
      "name": "python3",
      "display_name": "Python 3"
    },
    "language_info": {
      "name": "python"
    }
  },
  "cells": [
    {
      "cell_type": "markdown",
      "metadata": {
        "id": "view-in-github",
        "colab_type": "text"
      },
      "source": [
        "<a href=\"https://colab.research.google.com/github/Rohitatodiya/Rohit/blob/main/Day_03.ipynb\" target=\"_parent\"><img src=\"https://colab.research.google.com/assets/colab-badge.svg\" alt=\"Open In Colab\"/></a>"
      ]
    },
    {
      "cell_type": "markdown",
      "source": [
        "#Built in Functions of Python\n",
        "\n",
        "#abs() Function"
      ],
      "metadata": {
        "id": "mjOm8zp5IrhP"
      }
    },
    {
      "cell_type": "markdown",
      "source": [
        "The abs() function returns the absolute value of the specified number."
      ],
      "metadata": {
        "id": "SyrTsdgAI5Um"
      }
    },
    {
      "cell_type": "code",
      "source": [
        "x = abs(-7.25)"
      ],
      "metadata": {
        "id": "Wj-vcuw6JQ75"
      },
      "execution_count": 1,
      "outputs": []
    },
    {
      "cell_type": "code",
      "source": [
        "print(x)"
      ],
      "metadata": {
        "colab": {
          "base_uri": "https://localhost:8080/"
        },
        "id": "0djxTPyFJXK5",
        "outputId": "7b3d7500-f95f-40df-ee34-e4dac987f072"
      },
      "execution_count": 2,
      "outputs": [
        {
          "output_type": "stream",
          "name": "stdout",
          "text": [
            "7.25\n"
          ]
        }
      ]
    },
    {
      "cell_type": "code",
      "source": [
        "y = abs(-8)\n",
        "print(y)"
      ],
      "metadata": {
        "colab": {
          "base_uri": "https://localhost:8080/"
        },
        "id": "iH-0VEtDJaUW",
        "outputId": "455ac5e3-6d95-4758-80c4-72f47b9c8423"
      },
      "execution_count": 3,
      "outputs": [
        {
          "output_type": "stream",
          "name": "stdout",
          "text": [
            "8\n"
          ]
        }
      ]
    },
    {
      "cell_type": "code",
      "source": [
        "x = abs(3+5j)\n",
        "print(x)\n",
        "print(type(x))"
      ],
      "metadata": {
        "colab": {
          "base_uri": "https://localhost:8080/"
        },
        "id": "2nY2To2_JvAL",
        "outputId": "d3d250d0-ccd7-4172-aa6c-44fc240ebb84"
      },
      "execution_count": 5,
      "outputs": [
        {
          "output_type": "stream",
          "name": "stdout",
          "text": [
            "5.830951894845301\n",
            "<class 'float'>\n"
          ]
        }
      ]
    },
    {
      "cell_type": "markdown",
      "source": [
        "#Bin Function\n",
        "\n",
        "The bin() function returns the binary version of a specified integer.\n",
        "The result will always start with the prefix 0b."
      ],
      "metadata": {
        "id": "9TLjhvtxKyKB"
      }
    },
    {
      "cell_type": "code",
      "source": [
        "x = bin(10)\n",
        "print(x)"
      ],
      "metadata": {
        "colab": {
          "base_uri": "https://localhost:8080/"
        },
        "id": "njM5TUnAKnGv",
        "outputId": "836fc678-0acb-4f7c-83c5-e62dbdd76d89"
      },
      "execution_count": 6,
      "outputs": [
        {
          "output_type": "stream",
          "name": "stdout",
          "text": [
            "0b1010\n"
          ]
        }
      ]
    },
    {
      "cell_type": "code",
      "source": [
        "y = bin(36)\n",
        "print(y)"
      ],
      "metadata": {
        "colab": {
          "base_uri": "https://localhost:8080/"
        },
        "id": "Wlaqy9v4LKnY",
        "outputId": "9b3dfe12-c1a5-4ea7-8f5a-823825a254e2"
      },
      "execution_count": 8,
      "outputs": [
        {
          "output_type": "stream",
          "name": "stdout",
          "text": [
            "0b100100\n"
          ]
        }
      ]
    },
    {
      "cell_type": "code",
      "source": [
        "z = bin(56)\n",
        "print(z)\n",
        "print(type(z))"
      ],
      "metadata": {
        "colab": {
          "base_uri": "https://localhost:8080/"
        },
        "id": "l695ycnHLUAC",
        "outputId": "bd58cf96-8798-460d-b1fc-7189e8fe0f22"
      },
      "execution_count": 9,
      "outputs": [
        {
          "output_type": "stream",
          "name": "stdout",
          "text": [
            "0b111000\n",
            "<class 'str'>\n"
          ]
        }
      ]
    },
    {
      "cell_type": "markdown",
      "source": [
        "#Python bytes() Function\n",
        " The bytes() function returns a bytes object/\n",
        " It can covert objects into bytes objects,or create empty bytes object of the specified size."
      ],
      "metadata": {
        "id": "nDLrwf5sMyes"
      }
    },
    {
      "cell_type": "code",
      "source": [
        "x = bytes(4)\n",
        "print(x)"
      ],
      "metadata": {
        "colab": {
          "base_uri": "https://localhost:8080/"
        },
        "id": "zc3jtO3dMqMr",
        "outputId": "7092fa7a-c188-4724-8195-301f1cd8ed0b"
      },
      "execution_count": 10,
      "outputs": [
        {
          "output_type": "stream",
          "name": "stdout",
          "text": [
            "b'\\x00\\x00\\x00\\x00'\n"
          ]
        }
      ]
    },
    {
      "cell_type": "code",
      "source": [
        "y = bytes(16)\n",
        "print(y)"
      ],
      "metadata": {
        "colab": {
          "base_uri": "https://localhost:8080/"
        },
        "id": "Ae219MqvNcSR",
        "outputId": "a0727156-fa06-491a-bd55-f83591f2c937"
      },
      "execution_count": 11,
      "outputs": [
        {
          "output_type": "stream",
          "name": "stdout",
          "text": [
            "b'\\x00\\x00\\x00\\x00\\x00\\x00\\x00\\x00\\x00\\x00\\x00\\x00\\x00\\x00\\x00\\x00'\n"
          ]
        }
      ]
    },
    {
      "cell_type": "markdown",
      "source": [
        "# Python chr() Function\n",
        "  The chr() function returns a complex number by specifying a real number and an imaginary number."
      ],
      "metadata": {
        "id": "XlxNL5CrNmVL"
      }
    },
    {
      "cell_type": "code",
      "source": [
        "x = chr(97)\n",
        "print(x)"
      ],
      "metadata": {
        "colab": {
          "base_uri": "https://localhost:8080/"
        },
        "id": "cY7tPpfuNhH1",
        "outputId": "bba57815-0c42-414d-9405-e6aa30bef784"
      },
      "execution_count": 12,
      "outputs": [
        {
          "output_type": "stream",
          "name": "stdout",
          "text": [
            "a\n"
          ]
        }
      ]
    },
    {
      "cell_type": "code",
      "source": [
        "x = chr(98)\n",
        "print(x)"
      ],
      "metadata": {
        "colab": {
          "base_uri": "https://localhost:8080/"
        },
        "id": "0Kqux9yWOPzw",
        "outputId": "3dd4507e-f3c4-4a03-e875-1b1cfed41d9e"
      },
      "execution_count": 13,
      "outputs": [
        {
          "output_type": "stream",
          "name": "stdout",
          "text": [
            "b\n"
          ]
        }
      ]
    },
    {
      "cell_type": "code",
      "source": [
        "x = chr(99)\n",
        "print(x)"
      ],
      "metadata": {
        "colab": {
          "base_uri": "https://localhost:8080/"
        },
        "id": "qcXDpt8rOVaP",
        "outputId": "52fc6fa6-3099-408e-d649-8642755cdd49"
      },
      "execution_count": 14,
      "outputs": [
        {
          "output_type": "stream",
          "name": "stdout",
          "text": [
            "c\n"
          ]
        }
      ]
    },
    {
      "cell_type": "markdown",
      "source": [
        "# Python Complex() Function\n",
        "  The complex() Function returns a complex number by specifying a real number and an imaginary number."
      ],
      "metadata": {
        "id": "iCcBzolGOb8a"
      }
    },
    {
      "cell_type": "code",
      "source": [
        "x = complex(3,5)\n",
        "print(x)\n"
      ],
      "metadata": {
        "colab": {
          "base_uri": "https://localhost:8080/"
        },
        "id": "YhyXijIwOZ6m",
        "outputId": "917e9a44-3096-41b3-90b8-494863c016f2"
      },
      "execution_count": 15,
      "outputs": [
        {
          "output_type": "stream",
          "name": "stdout",
          "text": [
            "(3+5j)\n"
          ]
        }
      ]
    },
    {
      "cell_type": "code",
      "source": [
        "y = complex(2.5, 3.96)\n",
        "print(y)"
      ],
      "metadata": {
        "colab": {
          "base_uri": "https://localhost:8080/"
        },
        "id": "bfuaVIs-Oyw6",
        "outputId": "137211d8-58ee-4c1b-9823-2ca1a6f0fb2b"
      },
      "execution_count": 16,
      "outputs": [
        {
          "output_type": "stream",
          "name": "stdout",
          "text": [
            "(2.5+3.96j)\n"
          ]
        }
      ]
    },
    {
      "cell_type": "code",
      "source": [
        "x = complex('3')\n",
        "print(x)"
      ],
      "metadata": {
        "colab": {
          "base_uri": "https://localhost:8080/"
        },
        "id": "VRRpIrFAO5v7",
        "outputId": "737c682b-c6b3-4658-9fa0-091f28a726b7"
      },
      "execution_count": 17,
      "outputs": [
        {
          "output_type": "stream",
          "name": "stdout",
          "text": [
            "(3+0j)\n"
          ]
        }
      ]
    },
    {
      "cell_type": "markdown",
      "source": [
        "#  Python float() Function\n",
        "The float() function converts the specified value into a floating point number."
      ],
      "metadata": {
        "id": "ux99FowtPFw8"
      }
    },
    {
      "cell_type": "code",
      "source": [
        "x = float(3)\n",
        "print(x)"
      ],
      "metadata": {
        "colab": {
          "base_uri": "https://localhost:8080/"
        },
        "id": "ZRPdDzuHO_n4",
        "outputId": "774468c1-9023-4f32-c303-523d1ac53e71"
      },
      "execution_count": 19,
      "outputs": [
        {
          "output_type": "stream",
          "name": "stdout",
          "text": [
            "3.0\n"
          ]
        }
      ]
    },
    {
      "cell_type": "code",
      "source": [
        "y = float('3.500')\n",
        "print(y)"
      ],
      "metadata": {
        "colab": {
          "base_uri": "https://localhost:8080/"
        },
        "id": "wTHRpzJJPv4v",
        "outputId": "44ff2fac-9c89-4140-bedc-2cbfba2fb259"
      },
      "execution_count": 20,
      "outputs": [
        {
          "output_type": "stream",
          "name": "stdout",
          "text": [
            "3.5\n"
          ]
        }
      ]
    },
    {
      "cell_type": "markdown",
      "source": [
        "# Python format() Function\n",
        "  The format() function formats a specified value into a specified format.\n",
        "\n",
        "  syntax format(value,format)\n",
        "  "
      ],
      "metadata": {
        "id": "8G5jeFh5P4n_"
      }
    },
    {
      "cell_type": "code",
      "source": [
        "x= format(0.5,'%')\n",
        "print(x)"
      ],
      "metadata": {
        "colab": {
          "base_uri": "https://localhost:8080/"
        },
        "id": "4y61dAnJP2aE",
        "outputId": "f19169a3-bd3e-4efb-d15a-9d369af4923d"
      },
      "execution_count": 22,
      "outputs": [
        {
          "output_type": "stream",
          "name": "stdout",
          "text": [
            "50.000000%\n"
          ]
        }
      ]
    },
    {
      "cell_type": "code",
      "source": [
        "y = format(97,'c')\n",
        "print(y)"
      ],
      "metadata": {
        "colab": {
          "base_uri": "https://localhost:8080/"
        },
        "id": "k2NcbIsCQTaj",
        "outputId": "ed770068-f5f7-460a-bf5b-2e95704d8311"
      },
      "execution_count": 23,
      "outputs": [
        {
          "output_type": "stream",
          "name": "stdout",
          "text": [
            "a\n"
          ]
        }
      ]
    },
    {
      "cell_type": "code",
      "source": [
        "z = format(95,'c')\n",
        "print(z)"
      ],
      "metadata": {
        "colab": {
          "base_uri": "https://localhost:8080/"
        },
        "id": "8k3V5CEUQh-Y",
        "outputId": "25470895-5b0b-4e55-a917-079ebf36795d"
      },
      "execution_count": 24,
      "outputs": [
        {
          "output_type": "stream",
          "name": "stdout",
          "text": [
            "_\n"
          ]
        }
      ]
    },
    {
      "cell_type": "code",
      "source": [
        "a = format(255,'x')\n",
        "print(a)"
      ],
      "metadata": {
        "colab": {
          "base_uri": "https://localhost:8080/"
        },
        "id": "ooEXvos5QwW_",
        "outputId": "235e4096-8573-4fcf-fa3f-fb3404a5aad5"
      },
      "execution_count": 25,
      "outputs": [
        {
          "output_type": "stream",
          "name": "stdout",
          "text": [
            "ff\n"
          ]
        }
      ]
    },
    {
      "cell_type": "code",
      "source": [
        "m = format(25,'b')\n",
        "print(m)"
      ],
      "metadata": {
        "colab": {
          "base_uri": "https://localhost:8080/"
        },
        "id": "CweTLgd9Q4gs",
        "outputId": "926dfb2d-9080-4828-ad4a-4ae81a2052ab"
      },
      "execution_count": 26,
      "outputs": [
        {
          "output_type": "stream",
          "name": "stdout",
          "text": [
            "11001\n"
          ]
        }
      ]
    },
    {
      "cell_type": "code",
      "source": [
        "n = format(25,'b')\n",
        "print(n)"
      ],
      "metadata": {
        "colab": {
          "base_uri": "https://localhost:8080/"
        },
        "id": "3zhwoO1FQ-N-",
        "outputId": "ec97fe89-c5eb-4aaf-bc03-e943628b7542"
      },
      "execution_count": 27,
      "outputs": [
        {
          "output_type": "stream",
          "name": "stdout",
          "text": [
            "11001\n"
          ]
        }
      ]
    },
    {
      "cell_type": "markdown",
      "source": [
        "# int() function of python\n",
        "  The int() function converts the specified value into an integer number.\n"
      ],
      "metadata": {
        "id": "fzZtkUQrRXap"
      }
    },
    {
      "cell_type": "code",
      "source": [
        "x = int('12')\n",
        "print(x)"
      ],
      "metadata": {
        "colab": {
          "base_uri": "https://localhost:8080/"
        },
        "id": "Gmmjm3XnRE1W",
        "outputId": "8e7f5250-b75d-40f0-e7b1-77d7be7f41b6"
      },
      "execution_count": 28,
      "outputs": [
        {
          "output_type": "stream",
          "name": "stdout",
          "text": [
            "12\n"
          ]
        }
      ]
    },
    {
      "cell_type": "markdown",
      "source": [
        "# str() Function in Python\n"
      ],
      "metadata": {
        "id": "9Ko_ZgnZRpEq"
      }
    },
    {
      "cell_type": "code",
      "source": [
        "a = str('2568')\n",
        "print(a)"
      ],
      "metadata": {
        "colab": {
          "base_uri": "https://localhost:8080/"
        },
        "id": "E1bL-iWsRm9z",
        "outputId": "d0aafc00-b215-4cb4-bb56-bf8f5a944db0"
      },
      "execution_count": 29,
      "outputs": [
        {
          "output_type": "stream",
          "name": "stdout",
          "text": [
            "2568\n"
          ]
        }
      ]
    },
    {
      "cell_type": "markdown",
      "source": [
        "# Help function in Python\n",
        "\n",
        "The python help function is used to display the documentation of modules, functions, classes, keywords, etc."
      ],
      "metadata": {
        "id": "mAiMIA6HR3qY"
      }
    },
    {
      "cell_type": "code",
      "source": [
        "help(print)"
      ],
      "metadata": {
        "colab": {
          "base_uri": "https://localhost:8080/"
        },
        "id": "-2hn4qeXRxVA",
        "outputId": "b66a0606-dd5c-4712-a4c3-daacdcf3d256"
      },
      "execution_count": 30,
      "outputs": [
        {
          "output_type": "stream",
          "name": "stdout",
          "text": [
            "Help on built-in function print in module builtins:\n",
            "\n",
            "print(...)\n",
            "    print(value, ..., sep=' ', end='\\n', file=sys.stdout, flush=False)\n",
            "    \n",
            "    Prints the values to a stream, or to sys.stdout by default.\n",
            "    Optional keyword arguments:\n",
            "    file:  a file-like object (stream); defaults to the current sys.stdout.\n",
            "    sep:   string inserted between values, default a space.\n",
            "    end:   string appended after the last value, default a newline.\n",
            "    flush: whether to forcibly flush the stream.\n",
            "\n"
          ]
        }
      ]
    },
    {
      "cell_type": "markdown",
      "source": [
        "# Input Function in Python\n",
        "\n",
        "  The input() function allows user input."
      ],
      "metadata": {
        "id": "Rvm-WmsEUbRi"
      }
    },
    {
      "cell_type": "code",
      "source": [
        "x = input('Enter your name: ')\n",
        "print('Hello, ' + x)"
      ],
      "metadata": {
        "colab": {
          "base_uri": "https://localhost:8080/"
        },
        "id": "JD5pGSPxSMzW",
        "outputId": "589c226f-eeb9-47bd-c11f-13a9bb580978"
      },
      "execution_count": 32,
      "outputs": [
        {
          "output_type": "stream",
          "name": "stdout",
          "text": [
            "Enter your name: Rohit\n",
            "Hello, Rohit\n"
          ]
        }
      ]
    },
    {
      "cell_type": "code",
      "source": [
        "x = input('Enter your age : ')\n",
        "print('your age is , ' + x)\n",
        "print(type(x))"
      ],
      "metadata": {
        "colab": {
          "base_uri": "https://localhost:8080/"
        },
        "id": "kRRqL4eiUxJd",
        "outputId": "288ad9cb-0624-448f-a4ee-6c1fab4e997e"
      },
      "execution_count": 35,
      "outputs": [
        {
          "output_type": "stream",
          "name": "stdout",
          "text": [
            "Enter your age : 22\n",
            "your age is , 22\n",
            "<class 'str'>\n"
          ]
        }
      ]
    },
    {
      "cell_type": "markdown",
      "source": [
        "\"\"\"Write a program to calculate the percentage of the student in the subjects Mathematics, Science, Social Science, English and hindi. Ask the user to give the input\"\"\""
      ],
      "metadata": {
        "id": "BrddjS4_XIlV"
      }
    },
    {
      "cell_type": "code",
      "source": [
        "x = input(' Enter The Name of the Student ')\n",
        "a = input('Enter the marks scored in English')\n",
        "b = input('Enter the marks scored in Hindi')\n",
        "c = input('Enter the marks scored in Mathematics')\n",
        "d = input('Enter the marks scored in Science')\n",
        "e = input('Enter the marks scored in Social Science')\n",
        "p = int(a)+int(b)+int(c)+int(d)+int(e)\n",
        "n = (p/500)*100\n",
        "print('Percent Scored by The Student', x , 'is', n,'%')"
      ],
      "metadata": {
        "colab": {
          "base_uri": "https://localhost:8080/"
        },
        "id": "gj7B3C9ZVNBs",
        "outputId": "8222d5f0-9cc2-494c-f640-bebf7cb2cf26"
      },
      "execution_count": 38,
      "outputs": [
        {
          "output_type": "stream",
          "name": "stdout",
          "text": [
            " Enter The Name of the Student Rohit\n",
            "Enter the marks scored in English80\n",
            "Enter the marks scored in Hindi82\n",
            "Enter the marks scored in Mathematics86\n",
            "Enter the marks scored in Science76\n",
            "Enter the marks scored in Social Science75\n",
            "Percent Scored by The Student Rohit is 79.80000000000001 %\n"
          ]
        }
      ]
    },
    {
      "cell_type": "code",
      "source": [],
      "metadata": {
        "id": "Gn2ToCeEWmsA"
      },
      "execution_count": null,
      "outputs": []
    }
  ]
}